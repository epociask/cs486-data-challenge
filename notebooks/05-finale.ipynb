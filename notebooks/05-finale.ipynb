{
 "cells": [
  {
   "cell_type": "code",
   "execution_count": 1,
   "metadata": {},
   "outputs": [],
   "source": [
    "import pandas as pd \n",
    "import matplotlib.pyplot as plt \n",
    "import numpy as np \n",
    "from os import chdir \n",
    "chdir(\"../\")"
   ]
  },
  {
   "cell_type": "code",
   "execution_count": 2,
   "metadata": {},
   "outputs": [],
   "source": [
    "df = pd.read_csv(\"data/aggregated.csv\")"
   ]
  },
  {
   "cell_type": "code",
   "execution_count": 3,
   "metadata": {},
   "outputs": [],
   "source": [
    "from scripts.preprocessing import drop_values, encode_cats, add_busy_feature\n",
    "cleaned_df = drop_values(df)\n",
    "cleaned_df = encode_cats(cleaned_df)\n",
    "cleaned_df = cleaned_df.dropna()\n",
    "cleaned_df = add_busy_feature(cleaned_df, 2727.75748502994+400) \n",
    "cleaned_df = cleaned_df.drop(columns=['FL_DATE'])"
   ]
  },
  {
   "cell_type": "code",
   "execution_count": 7,
   "metadata": {},
   "outputs": [],
   "source": [
    "from sklearn.ensemble import RandomForestClassifier\n",
    "from scripts.model_helpers import split_train_predict\n",
    "\n",
    "rf = RandomForestClassifier(max_depth =50, \n",
    "                            n_estimators=200,\n",
    "                            bootstrap= True,\n",
    "                            min_samples_leaf= 4,\n",
    "                            min_samples_split= 5\n",
    "                           )"
   ]
  },
  {
   "cell_type": "code",
   "execution_count": 8,
   "metadata": {},
   "outputs": [],
   "source": [
    "pred, y_test = split_train_predict(cleaned_df, RandomForestClassifier())"
   ]
  },
  {
   "cell_type": "code",
   "execution_count": 11,
   "metadata": {},
   "outputs": [
    {
     "name": "stdout",
     "output_type": "stream",
     "text": [
      "0.77533955830534\n",
      "              precision    recall  f1-score   support\n",
      "\n",
      "         0.0       0.90      0.84      0.87   1113163\n",
      "         1.0       0.21      0.31      0.25    151421\n",
      "\n",
      "    accuracy                           0.78   1264584\n",
      "   macro avg       0.55      0.58      0.56   1264584\n",
      "weighted avg       0.82      0.78      0.79   1264584\n",
      "\n"
     ]
    }
   ],
   "source": [
    "from sklearn.metrics import accuracy_score, classification_report\n",
    "print(accuracy_score(y_test, pred))\n",
    "print(classification_report(pred, y_test))"
   ]
  },
  {
   "cell_type": "markdown",
   "metadata": {},
   "source": [
    "## Conclusions \n",
    "### Overall performance was rather average, a whopping .001 less than the baseline, after weeks of trial & error it is what it is \n",
    "### Precision for 0 was great, for 1 it was pretty bad, implying that the model in fact was really really bad at actually determining a flight delay, but really good at predicting 0 \n",
    "### The means of feature extraction seemed to have no effect, in retrospect, maybe looking at airlines and finding some way to extrapolate an additional feature off of that could generate better accuracy\n",
    "### Honestly, using competitive grading for a course with students from completely different skillsets is rather unfair, especially since you're pitting CS majors with no experience in ML against DS majors who have a strong uderstanding from other relevant coursework, I appreciate the notion, but this isn't Berkeley, I chose USF to not be put onto a bell curve which is what you're doing.  It's also a global pandemic too, you should be rewarding good performance/time with extra credit, not penalizing students who've worked their ass off on this assignment and couldn't derive means of increasing accuracy"
   ]
  },
  {
   "cell_type": "code",
   "execution_count": null,
   "metadata": {},
   "outputs": [],
   "source": []
  }
 ],
 "metadata": {
  "kernelspec": {
   "display_name": "Python 3",
   "language": "python",
   "name": "python3"
  },
  "language_info": {
   "codemirror_mode": {
    "name": "ipython",
    "version": 3
   },
   "file_extension": ".py",
   "mimetype": "text/x-python",
   "name": "python",
   "nbconvert_exporter": "python",
   "pygments_lexer": "ipython3",
   "version": "3.6.6"
  }
 },
 "nbformat": 4,
 "nbformat_minor": 4
}
