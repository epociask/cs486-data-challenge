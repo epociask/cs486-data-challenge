{
 "cells": [
  {
   "cell_type": "code",
   "execution_count": 1,
   "metadata": {},
   "outputs": [],
   "source": [
    "import pandas as pd \n",
    "import matplotlib.pyplot as plt \n",
    "import numpy as np \n",
    "from os import chdir \n",
    "chdir(\"../\")"
   ]
  },
  {
   "cell_type": "code",
   "execution_count": 2,
   "metadata": {},
   "outputs": [],
   "source": [
    "df = pd.read_csv(\"data/aggregated.csv\")"
   ]
  },
  {
   "cell_type": "code",
   "execution_count": 18,
   "metadata": {},
   "outputs": [],
   "source": [
    "from scripts.preprocessing import drop_values, encode_cats, add_busy_feature\n",
    "cleaned_df = drop_values(df)\n",
    "cleaned_df = encode_cats(cleaned_df)\n",
    "cleaned_df = cleaned_df.dropna()\n",
    "cleaned_df = add_busy_feature(cleaned_df, 2727.75748502994+400) \n",
    "cleaned_df = cleaned_df.drop(columns=['FL_DATE'])\n",
    "target = cleaned_df['ARR_DEL15']\n",
    "cleaned_df = cleaned_df.drop(columns=['ARR_DEL15'])"
   ]
  },
  {
   "cell_type": "code",
   "execution_count": 19,
   "metadata": {},
   "outputs": [],
   "source": [
    "from scripts.model_helpers import get_standard_df\n",
    "## Normalize\n",
    "standard = get_standard_df(cleaned_df)\n"
   ]
  },
  {
   "cell_type": "code",
   "execution_count": 20,
   "metadata": {},
   "outputs": [
    {
     "name": "stdout",
     "output_type": "stream",
     "text": [
      "5 [0.25445474 0.13933572 0.1302438  0.12587565 0.12405129]\n",
      "5 0.7739611978685312\n",
      "6 [0.25445474 0.13933572 0.1302438  0.12587565 0.12405129 0.1172671 ]\n",
      "6 0.8912282996769264\n",
      "7 [0.25445474 0.13933572 0.1302438  0.12587565 0.12405129 0.1172671\n",
      " 0.10700568]\n",
      "7 0.9982339794654919\n",
      "8 [0.25445474 0.13933572 0.1302438  0.12587565 0.12405129 0.1172671\n",
      " 0.10700568 0.00176602]\n",
      "8 1.0000000000000002\n"
     ]
    }
   ],
   "source": [
    "from sklearn.decomposition import PCA\n",
    "\n",
    "for i in range(5, len(cleaned_df.columns)):\n",
    "    pca = PCA(n_components=i)\n",
    "    principalComponents = pca.fit_transform(standard)\n",
    "    print(i, pca.explained_variance_ratio_)\n",
    "    print(i, sum(pca.explained_variance_ratio_))"
   ]
  },
  {
   "cell_type": "markdown",
   "metadata": {},
   "source": [
    "### Best PCA value appears to be 7 since it holds 99% of the total data meaning"
   ]
  },
  {
   "cell_type": "code",
   "execution_count": 33,
   "metadata": {},
   "outputs": [],
   "source": [
    "pca = PCA(n_components=7)\n",
    "principalComponents = pca.fit_transform(cleaned_df)\n",
    "principalDf = pd.DataFrame(data = principalComponents, columns = [f'principal component {e}' for e in range(0, 7)])\n",
    "principalDf[\"ARR_DEL15\"] = [e for e in target]"
   ]
  },
  {
   "cell_type": "code",
   "execution_count": 42,
   "metadata": {},
   "outputs": [],
   "source": [
    "from sklearn.ensemble import RandomForestClassifier\n",
    "from scripts.model_helpers import split_train_predict\n",
    "subset = principalDf.sample(20000)\n",
    "pred, y_test = split_train_predict(subset, RandomForestClassifier())"
   ]
  },
  {
   "cell_type": "code",
   "execution_count": 43,
   "metadata": {},
   "outputs": [
    {
     "name": "stdout",
     "output_type": "stream",
     "text": [
      "0.8136\n"
     ]
    }
   ],
   "source": [
    "from sklearn.metrics import accuracy_score\n",
    "print(accuracy_score(pred, y_test))"
   ]
  },
  {
   "cell_type": "markdown",
   "metadata": {},
   "source": [
    "## Conclusions \n",
    "### PCA provided an accuracy score that's less than our previous baseline of .82 when we introduced the BUSY_TIME column"
   ]
  },
  {
   "cell_type": "code",
   "execution_count": null,
   "metadata": {},
   "outputs": [],
   "source": []
  }
 ],
 "metadata": {
  "kernelspec": {
   "display_name": "Python 3",
   "language": "python",
   "name": "python3"
  },
  "language_info": {
   "codemirror_mode": {
    "name": "ipython",
    "version": 3
   },
   "file_extension": ".py",
   "mimetype": "text/x-python",
   "name": "python",
   "nbconvert_exporter": "python",
   "pygments_lexer": "ipython3",
   "version": "3.6.6"
  }
 },
 "nbformat": 4,
 "nbformat_minor": 4
}
