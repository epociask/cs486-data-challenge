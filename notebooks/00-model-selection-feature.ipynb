{
 "cells": [
  {
   "cell_type": "code",
   "execution_count": 1,
   "metadata": {},
   "outputs": [],
   "source": [
    "import  pandas as pd \n",
    "import numpy as np \n",
    "import os \n",
    "os.chdir(\"../\")"
   ]
  },
  {
   "cell_type": "code",
   "execution_count": 2,
   "metadata": {},
   "outputs": [
    {
     "data": {
      "text/html": [
       "<div>\n",
       "<style scoped>\n",
       "    .dataframe tbody tr th:only-of-type {\n",
       "        vertical-align: middle;\n",
       "    }\n",
       "\n",
       "    .dataframe tbody tr th {\n",
       "        vertical-align: top;\n",
       "    }\n",
       "\n",
       "    .dataframe thead th {\n",
       "        text-align: right;\n",
       "    }\n",
       "</style>\n",
       "<table border=\"1\" class=\"dataframe\">\n",
       "  <thead>\n",
       "    <tr style=\"text-align: right;\">\n",
       "      <th></th>\n",
       "      <th>MONTH</th>\n",
       "      <th>DAY_OF_WEEK</th>\n",
       "      <th>FL_DATE</th>\n",
       "      <th>UNIQUE_CARRIER</th>\n",
       "      <th>FL_NUM</th>\n",
       "      <th>ORIGIN</th>\n",
       "      <th>ORIGIN_CITY_NAME</th>\n",
       "      <th>DEST</th>\n",
       "      <th>DEST_CITY_NAME</th>\n",
       "      <th>CRS_DEP_TIME</th>\n",
       "      <th>ARR_DEL15</th>\n",
       "      <th>CRS_ELAPSED_TIME</th>\n",
       "      <th>DISTANCE</th>\n",
       "    </tr>\n",
       "  </thead>\n",
       "  <tbody>\n",
       "    <tr>\n",
       "      <th>0</th>\n",
       "      <td>2.0</td>\n",
       "      <td>6.0</td>\n",
       "      <td>2017-02-25</td>\n",
       "      <td>B6</td>\n",
       "      <td>28.0</td>\n",
       "      <td>MCO</td>\n",
       "      <td>Orlando, FL</td>\n",
       "      <td>EWR</td>\n",
       "      <td>Newark, NJ</td>\n",
       "      <td>1000.0</td>\n",
       "      <td>0.0</td>\n",
       "      <td>156.0</td>\n",
       "      <td>937.0</td>\n",
       "    </tr>\n",
       "    <tr>\n",
       "      <th>1</th>\n",
       "      <td>2.0</td>\n",
       "      <td>7.0</td>\n",
       "      <td>2017-02-26</td>\n",
       "      <td>B6</td>\n",
       "      <td>28.0</td>\n",
       "      <td>MCO</td>\n",
       "      <td>Orlando, FL</td>\n",
       "      <td>EWR</td>\n",
       "      <td>Newark, NJ</td>\n",
       "      <td>739.0</td>\n",
       "      <td>0.0</td>\n",
       "      <td>153.0</td>\n",
       "      <td>937.0</td>\n",
       "    </tr>\n",
       "    <tr>\n",
       "      <th>2</th>\n",
       "      <td>2.0</td>\n",
       "      <td>1.0</td>\n",
       "      <td>2017-02-27</td>\n",
       "      <td>B6</td>\n",
       "      <td>28.0</td>\n",
       "      <td>MCO</td>\n",
       "      <td>Orlando, FL</td>\n",
       "      <td>EWR</td>\n",
       "      <td>Newark, NJ</td>\n",
       "      <td>1028.0</td>\n",
       "      <td>0.0</td>\n",
       "      <td>158.0</td>\n",
       "      <td>937.0</td>\n",
       "    </tr>\n",
       "    <tr>\n",
       "      <th>3</th>\n",
       "      <td>2.0</td>\n",
       "      <td>2.0</td>\n",
       "      <td>2017-02-28</td>\n",
       "      <td>B6</td>\n",
       "      <td>28.0</td>\n",
       "      <td>MCO</td>\n",
       "      <td>Orlando, FL</td>\n",
       "      <td>EWR</td>\n",
       "      <td>Newark, NJ</td>\n",
       "      <td>739.0</td>\n",
       "      <td>0.0</td>\n",
       "      <td>153.0</td>\n",
       "      <td>937.0</td>\n",
       "    </tr>\n",
       "    <tr>\n",
       "      <th>4</th>\n",
       "      <td>2.0</td>\n",
       "      <td>3.0</td>\n",
       "      <td>2017-02-01</td>\n",
       "      <td>B6</td>\n",
       "      <td>33.0</td>\n",
       "      <td>BTV</td>\n",
       "      <td>Burlington, VT</td>\n",
       "      <td>JFK</td>\n",
       "      <td>New York, NY</td>\n",
       "      <td>1907.0</td>\n",
       "      <td>0.0</td>\n",
       "      <td>90.0</td>\n",
       "      <td>266.0</td>\n",
       "    </tr>\n",
       "  </tbody>\n",
       "</table>\n",
       "</div>"
      ],
      "text/plain": [
       "   MONTH  DAY_OF_WEEK     FL_DATE UNIQUE_CARRIER  FL_NUM ORIGIN  \\\n",
       "0    2.0          6.0  2017-02-25             B6    28.0    MCO   \n",
       "1    2.0          7.0  2017-02-26             B6    28.0    MCO   \n",
       "2    2.0          1.0  2017-02-27             B6    28.0    MCO   \n",
       "3    2.0          2.0  2017-02-28             B6    28.0    MCO   \n",
       "4    2.0          3.0  2017-02-01             B6    33.0    BTV   \n",
       "\n",
       "  ORIGIN_CITY_NAME DEST DEST_CITY_NAME  CRS_DEP_TIME  ARR_DEL15  \\\n",
       "0      Orlando, FL  EWR     Newark, NJ        1000.0        0.0   \n",
       "1      Orlando, FL  EWR     Newark, NJ         739.0        0.0   \n",
       "2      Orlando, FL  EWR     Newark, NJ        1028.0        0.0   \n",
       "3      Orlando, FL  EWR     Newark, NJ         739.0        0.0   \n",
       "4   Burlington, VT  JFK   New York, NY        1907.0        0.0   \n",
       "\n",
       "   CRS_ELAPSED_TIME  DISTANCE  \n",
       "0             156.0     937.0  \n",
       "1             153.0     937.0  \n",
       "2             158.0     937.0  \n",
       "3             153.0     937.0  \n",
       "4              90.0     266.0  "
      ]
     },
     "execution_count": 2,
     "metadata": {},
     "output_type": "execute_result"
    }
   ],
   "source": [
    "### Load in the data \n",
    "df = pd.read_csv(\"data/aggregated.csv\")\n",
    "df = df.drop(columns=[\"Unnamed: 13\"])\n",
    "df = df.dropna()\n",
    "df.head()"
   ]
  },
  {
   "cell_type": "code",
   "execution_count": 10,
   "metadata": {},
   "outputs": [
    {
     "data": {
      "text/plain": [
       "array([[<AxesSubplot:xlabel='MONTH', ylabel='MONTH'>,\n",
       "        <AxesSubplot:xlabel='DAY_OF_WEEK', ylabel='MONTH'>,\n",
       "        <AxesSubplot:xlabel='FL_NUM', ylabel='MONTH'>,\n",
       "        <AxesSubplot:xlabel='CRS_DEP_TIME', ylabel='MONTH'>,\n",
       "        <AxesSubplot:xlabel='ARR_DEL15', ylabel='MONTH'>,\n",
       "        <AxesSubplot:xlabel='CRS_ELAPSED_TIME', ylabel='MONTH'>,\n",
       "        <AxesSubplot:xlabel='DISTANCE', ylabel='MONTH'>],\n",
       "       [<AxesSubplot:xlabel='MONTH', ylabel='DAY_OF_WEEK'>,\n",
       "        <AxesSubplot:xlabel='DAY_OF_WEEK', ylabel='DAY_OF_WEEK'>,\n",
       "        <AxesSubplot:xlabel='FL_NUM', ylabel='DAY_OF_WEEK'>,\n",
       "        <AxesSubplot:xlabel='CRS_DEP_TIME', ylabel='DAY_OF_WEEK'>,\n",
       "        <AxesSubplot:xlabel='ARR_DEL15', ylabel='DAY_OF_WEEK'>,\n",
       "        <AxesSubplot:xlabel='CRS_ELAPSED_TIME', ylabel='DAY_OF_WEEK'>,\n",
       "        <AxesSubplot:xlabel='DISTANCE', ylabel='DAY_OF_WEEK'>],\n",
       "       [<AxesSubplot:xlabel='MONTH', ylabel='FL_NUM'>,\n",
       "        <AxesSubplot:xlabel='DAY_OF_WEEK', ylabel='FL_NUM'>,\n",
       "        <AxesSubplot:xlabel='FL_NUM', ylabel='FL_NUM'>,\n",
       "        <AxesSubplot:xlabel='CRS_DEP_TIME', ylabel='FL_NUM'>,\n",
       "        <AxesSubplot:xlabel='ARR_DEL15', ylabel='FL_NUM'>,\n",
       "        <AxesSubplot:xlabel='CRS_ELAPSED_TIME', ylabel='FL_NUM'>,\n",
       "        <AxesSubplot:xlabel='DISTANCE', ylabel='FL_NUM'>],\n",
       "       [<AxesSubplot:xlabel='MONTH', ylabel='CRS_DEP_TIME'>,\n",
       "        <AxesSubplot:xlabel='DAY_OF_WEEK', ylabel='CRS_DEP_TIME'>,\n",
       "        <AxesSubplot:xlabel='FL_NUM', ylabel='CRS_DEP_TIME'>,\n",
       "        <AxesSubplot:xlabel='CRS_DEP_TIME', ylabel='CRS_DEP_TIME'>,\n",
       "        <AxesSubplot:xlabel='ARR_DEL15', ylabel='CRS_DEP_TIME'>,\n",
       "        <AxesSubplot:xlabel='CRS_ELAPSED_TIME', ylabel='CRS_DEP_TIME'>,\n",
       "        <AxesSubplot:xlabel='DISTANCE', ylabel='CRS_DEP_TIME'>],\n",
       "       [<AxesSubplot:xlabel='MONTH', ylabel='ARR_DEL15'>,\n",
       "        <AxesSubplot:xlabel='DAY_OF_WEEK', ylabel='ARR_DEL15'>,\n",
       "        <AxesSubplot:xlabel='FL_NUM', ylabel='ARR_DEL15'>,\n",
       "        <AxesSubplot:xlabel='CRS_DEP_TIME', ylabel='ARR_DEL15'>,\n",
       "        <AxesSubplot:xlabel='ARR_DEL15', ylabel='ARR_DEL15'>,\n",
       "        <AxesSubplot:xlabel='CRS_ELAPSED_TIME', ylabel='ARR_DEL15'>,\n",
       "        <AxesSubplot:xlabel='DISTANCE', ylabel='ARR_DEL15'>],\n",
       "       [<AxesSubplot:xlabel='MONTH', ylabel='CRS_ELAPSED_TIME'>,\n",
       "        <AxesSubplot:xlabel='DAY_OF_WEEK', ylabel='CRS_ELAPSED_TIME'>,\n",
       "        <AxesSubplot:xlabel='FL_NUM', ylabel='CRS_ELAPSED_TIME'>,\n",
       "        <AxesSubplot:xlabel='CRS_DEP_TIME', ylabel='CRS_ELAPSED_TIME'>,\n",
       "        <AxesSubplot:xlabel='ARR_DEL15', ylabel='CRS_ELAPSED_TIME'>,\n",
       "        <AxesSubplot:xlabel='CRS_ELAPSED_TIME', ylabel='CRS_ELAPSED_TIME'>,\n",
       "        <AxesSubplot:xlabel='DISTANCE', ylabel='CRS_ELAPSED_TIME'>],\n",
       "       [<AxesSubplot:xlabel='MONTH', ylabel='DISTANCE'>,\n",
       "        <AxesSubplot:xlabel='DAY_OF_WEEK', ylabel='DISTANCE'>,\n",
       "        <AxesSubplot:xlabel='FL_NUM', ylabel='DISTANCE'>,\n",
       "        <AxesSubplot:xlabel='CRS_DEP_TIME', ylabel='DISTANCE'>,\n",
       "        <AxesSubplot:xlabel='ARR_DEL15', ylabel='DISTANCE'>,\n",
       "        <AxesSubplot:xlabel='CRS_ELAPSED_TIME', ylabel='DISTANCE'>,\n",
       "        <AxesSubplot:xlabel='DISTANCE', ylabel='DISTANCE'>]], dtype=object)"
      ]
     },
     "execution_count": 10,
     "metadata": {},
     "output_type": "execute_result"
    },
    {
     "data": {
      "image/png": "[encoded data removed]",
      "text/plain": [
       "<Figure size 792x792 with 49 Axes>"
      ]
     },
     "metadata": {
      "needs_background": "light"
     },
     "output_type": "display_data"
    }
   ],
   "source": [
    "## Lets explore the data starting with a scatter matrix \n",
    "from pandas.plotting import scatter_matrix\n",
    "%matplotlib inline\n",
    "scatter_matrix(df, figsize=(11,11))"
   ]
  },
  {
   "cell_type": "markdown",
   "metadata": {},
   "source": [
    "## Observations\n",
    "### From this scatter plot analysis, we see the only values that are linearly coordinated appear to be ELAPSED_TIME x DISTANCE... intuitively this makes perfect sense as the distance a plane has to travel increases, the amount of time it takes to reach destination should increase as well\n",
    "### ARR_DEL15 appears to not be conditionally based upon any one of the other individual features.. maybe a model that doesn't assume linear relationships would work well\n",
    "### MONTH and DAY_OF_WEEK have what appear to be categorical relationships, however they should insetad cyclical or represented in some form like a circular array "
   ]
  },
  {
   "cell_type": "code",
   "execution_count": 4,
   "metadata": {},
   "outputs": [],
   "source": [
    "from matplotlib import pyplot as plt "
   ]
  },
  {
   "cell_type": "code",
   "execution_count": 13,
   "metadata": {},
   "outputs": [
    {
     "data": {
      "text/plain": [
       "<matplotlib.collections.PathCollection at 0x120180208>"
      ]
     },
     "execution_count": 13,
     "metadata": {},
     "output_type": "execute_result"
    },
    {
     "data": {
      "image/png": "[encoded data removed]",
      "text/plain": [
       "<Figure size 432x288 with 1 Axes>"
      ]
     },
     "metadata": {
      "needs_background": "light"
     },
     "output_type": "display_data"
    }
   ],
   "source": [
    "plt.scatter(x=df['CRS_ELAPSED_TIME'], y=df['DISTANCE'], c=df['ARR_DEL15'])"
   ]
  },
  {
   "cell_type": "code",
   "execution_count": 5,
   "metadata": {},
   "outputs": [
    {
     "data": {
      "text/plain": [
       "2016-11-27    16948\n",
       "2016-08-05    16917\n",
       "2016-07-11    16827\n",
       "2016-08-04    16821\n",
       "2016-07-15    16814\n",
       "              ...  \n",
       "2016-12-03    11495\n",
       "2016-12-10    11363\n",
       "2017-01-14    11337\n",
       "2017-01-07    10531\n",
       "2016-11-24     9784\n",
       "Name: FL_DATE, Length: 334, dtype: int64"
      ]
     },
     "execution_count": 5,
     "metadata": {},
     "output_type": "execute_result"
    }
   ],
   "source": [
    "df['FL_DATE'].value_counts()"
   ]
  },
  {
   "cell_type": "code",
   "execution_count": 39,
   "metadata": {},
   "outputs": [],
   "source": [
    "from scripts.preprocessing import  get_delayed_not_delayed_counts\n",
    "\n",
    "delayed, not_delayed = get_delayed_not_delayed_counts(df[\"FL_DATE\"], df[\"ARR_DEL15\"])\n",
    "    "
   ]
  },
  {
   "cell_type": "code",
   "execution_count": 7,
   "metadata": {},
   "outputs": [
    {
     "name": "stdout",
     "output_type": "stream",
     "text": [
      "Day with delay count ->  334\n",
      "Total days -> 334\n",
      "Proportionality of delayed days -> 1.0\n",
      "Day without delay count ->  334\n",
      "Total days -> 334\n",
      "Proportionality of delayed days -> 1.0\n"
     ]
    }
   ],
   "source": [
    "print(\"Day with delay count -> \", len(delayed))\n",
    "print(\"Total days ->\", len(df['FL_DATE'].value_counts()))\n",
    "print(\"Proportionality of delayed days ->\", len(delayed) / len(df['FL_DATE'].value_counts()))\n",
    "print(\"Day without delay count -> \", len(not_delayed))\n",
    "print(\"Total days ->\", len(df['FL_DATE'].value_counts()))\n",
    "print(\"Proportionality of delayed days ->\", len(not_delayed) / len(df['FL_DATE'].value_counts()))\n"
   ]
  },
  {
   "cell_type": "markdown",
   "metadata": {},
   "source": [
    "#### the FL_DATE column doesn't seem to be too indicative of anything really since every single one of its unique values shares rows with and without a delayed flight, therefore it won't be too useful in determining if a flight is going to be delayed and should be dropped... although an useful feature could potentially be extracted from this column if the right transformation is applied "
   ]
  },
  {
   "cell_type": "code",
   "execution_count": 20,
   "metadata": {},
   "outputs": [
    {
     "name": "stdout",
     "output_type": "stream",
     "text": [
      "std dev -> 1154.7228889082112\n",
      "mean -> 2727.75748502994\n"
     ]
    }
   ],
   "source": [
    "from numpy import std\n",
    "std_dev = std(np.array(list(delayed.values())))\n",
    "print(\"std dev ->\", std_dev)\n",
    "mean_delays = sum(delayed.values())/len(delayed)\n",
    "print(\"mean ->\", mean_delays)"
   ]
  },
  {
   "cell_type": "code",
   "execution_count": 23,
   "metadata": {},
   "outputs": [
    {
     "data": {
      "text/plain": [
       "<matplotlib.collections.PathCollection at 0x114c4ca58>"
      ]
     },
     "execution_count": 23,
     "metadata": {},
     "output_type": "execute_result"
    },
    {
     "data": {
      "image/png": "[encoded data removed]",
      "text/plain": [
       "<Figure size 432x288 with 1 Axes>"
      ]
     },
     "metadata": {
      "needs_background": "light"
     },
     "output_type": "display_data"
    }
   ],
   "source": [
    "plt.scatter(x=delayed.keys(), y=delayed.values())\n",
    "plt.scatter(x=delayed.keys(), y=[mean_delays]*len(delayed.keys()) )\n",
    "# 1 stdv\n",
    "plt.scatter(x=delayed.keys(), y=[mean_delays+std_dev]*len(delayed.keys()))\n",
    "# 2 stdv\n",
    "plt.scatter(x=delayed.keys(), y=[mean_delays+2 * std_dev]*len(delayed.keys()))\n",
    "# 3 stdv\n",
    "plt.scatter(x=delayed.keys(), y=[mean_delays+ 3 * std_dev]*len(delayed.keys()))\n",
    "plt.scatter(x=delayed.keys(), y=[mean_delays-std_dev]*len(delayed.keys()))\n",
    "plt.scatter(x=delayed.keys(), y=[mean_delays - 2*std_dev]*len(delayed.keys()))\n",
    "plt.scatter(x=delayed.keys(), y=[mean_delays- 3*std_dev]*len(delayed.keys()))\n"
   ]
  },
  {
   "cell_type": "markdown",
   "metadata": {},
   "source": [
    "### After plotting the mean and +-(3) stdevs from it, we see that the dates with the highest count of flight delays occur greater than 3stdvs with no data points in the lower range bounded values... Most of the data points completely converge between 1 and -1 std deviations"
   ]
  },
  {
   "cell_type": "code",
   "execution_count": 52,
   "metadata": {},
   "outputs": [],
   "source": [
    "## Lets see the days with the most delayed flights and try to inference why  \n",
    "sorted_delays = sorted(delayed.items(), key=lambda x: x[1], reverse=True)\n"
   ]
  },
  {
   "cell_type": "code",
   "execution_count": 53,
   "metadata": {},
   "outputs": [],
   "source": [
    "import json\n",
    "### Let's write value counts a file for safe keepings\n",
    "with open(\"busiest_days_asc.json\", \"w\") as fw:\n",
    "    json.dump([e for e in df['FL_DATE'].value_counts()], fw)"
   ]
  },
  {
   "cell_type": "markdown",
   "metadata": {},
   "source": [
    "#### Hmmmm, The week before christmas appeared to have the highest count delayed, lets do some geographical tranformations and generate some maps showing were concentration is the highest"
   ]
  },
  {
   "cell_type": "code",
   "execution_count": 37,
   "metadata": {},
   "outputs": [
    {
     "data": {
      "text/plain": [
       "<matplotlib.collections.PathCollection at 0x122a0c470>"
      ]
     },
     "execution_count": 37,
     "metadata": {},
     "output_type": "execute_result"
    },
    {
     "data": {
      "image/png": "[encoded data removed]",
      "text/plain": [
       "<Figure size 432x288 with 1 Axes>"
      ]
     },
     "metadata": {
      "needs_background": "light"
     },
     "output_type": "display_data"
    }
   ],
   "source": [
    "from matplotlib import pyplot as plt  \n",
    "## These irrelevant \n",
    "delayed, not_delayed = get_delayed_not_delayed_counts(df[\"ORIGIN\"], df[\"ARR_DEL15\"])\n",
    "plt.scatter(x=not_delayed.keys(), y=not_delayed.values())\n",
    "plt.scatter(x=delayed.keys(), y=delayed.values())\n"
   ]
  },
  {
   "cell_type": "markdown",
   "metadata": {},
   "source": [
    "## Graph Observations \n",
    "### From this graph, its become apparent that days with higher delays are also days with a high number of flights...\n",
    "### Maybe some feature extracted from FL_DATE to indicate if the day is a busy day could be helpful in improving accuracy"
   ]
  },
  {
   "cell_type": "code",
   "execution_count": 31,
   "metadata": {},
   "outputs": [],
   "source": [
    "sorted_delays = sorted(delayed.items(), key=lambda x: x[1], reverse=True)\n",
    "sorted_no_delays = sorted(not_delayed.items(), key=lambda x: x[1], reverse=True)\n",
    "dest_delayed, dest_not_delayed = get_delayed_not_delayed_counts(df[\"ORIGIN\"], df[\"ARR_DEL15\"])\n",
    "\n",
    "sorted_origin_keys = [e[0] for e in sorted_delays]\n",
    "sorted_origin_no_keys = [e[0] for e in sorted_no_delays]\n",
    "\n",
    "dest_delayed = sorted(dest_delayed.items(), key=lambda x: x[1], reverse=True)\n",
    "dest_not_delayed = sorted(dest_not_delayed.items(), key=lambda x: x[1], reverse=True)\n",
    "sorted_dest_keys = [e[0] for e in dest_delayed]\n",
    "sorted_dest_not_keys = [e[0] for e in dest_not_delayed]\n"
   ]
  },
  {
   "cell_type": "markdown",
   "metadata": {},
   "source": [
    "### Hmmm, the SPN value seems to exist for ORIGIN but not for DEST, a function should be written to remove that single column value from the DF as a whole since it's only seen for one and we want to ensure ORIGIN and DEST remain represented as a bipartisan graph with links going both ways"
   ]
  },
  {
   "cell_type": "code",
   "execution_count": 38,
   "metadata": {},
   "outputs": [
    {
     "data": {
      "text/html": [
       "<div>\n",
       "<style scoped>\n",
       "    .dataframe tbody tr th:only-of-type {\n",
       "        vertical-align: middle;\n",
       "    }\n",
       "\n",
       "    .dataframe tbody tr th {\n",
       "        vertical-align: top;\n",
       "    }\n",
       "\n",
       "    .dataframe thead th {\n",
       "        text-align: right;\n",
       "    }\n",
       "</style>\n",
       "<table border=\"1\" class=\"dataframe\">\n",
       "  <thead>\n",
       "    <tr style=\"text-align: right;\">\n",
       "      <th></th>\n",
       "      <th>ORIGIN_DELAYED_SORT</th>\n",
       "      <th>ORIGIN_NON_DELAYED_SORT</th>\n",
       "      <th>DEST_DELAYED_SORTED</th>\n",
       "      <th>DEST_NON_DELAYED_SORTED</th>\n",
       "    </tr>\n",
       "  </thead>\n",
       "  <tbody>\n",
       "    <tr>\n",
       "      <th>0</th>\n",
       "      <td>ATL</td>\n",
       "      <td>ATL</td>\n",
       "      <td>ATL</td>\n",
       "      <td>ATL</td>\n",
       "    </tr>\n",
       "    <tr>\n",
       "      <th>1</th>\n",
       "      <td>ORD</td>\n",
       "      <td>ORD</td>\n",
       "      <td>ORD</td>\n",
       "      <td>ORD</td>\n",
       "    </tr>\n",
       "    <tr>\n",
       "      <th>2</th>\n",
       "      <td>LAX</td>\n",
       "      <td>DEN</td>\n",
       "      <td>LAX</td>\n",
       "      <td>DEN</td>\n",
       "    </tr>\n",
       "    <tr>\n",
       "      <th>3</th>\n",
       "      <td>DEN</td>\n",
       "      <td>LAX</td>\n",
       "      <td>DEN</td>\n",
       "      <td>LAX</td>\n",
       "    </tr>\n",
       "    <tr>\n",
       "      <th>4</th>\n",
       "      <td>DFW</td>\n",
       "      <td>DFW</td>\n",
       "      <td>DFW</td>\n",
       "      <td>DFW</td>\n",
       "    </tr>\n",
       "    <tr>\n",
       "      <th>5</th>\n",
       "      <td>SFO</td>\n",
       "      <td>SFO</td>\n",
       "      <td>SFO</td>\n",
       "      <td>SFO</td>\n",
       "    </tr>\n",
       "    <tr>\n",
       "      <th>6</th>\n",
       "      <td>LAS</td>\n",
       "      <td>PHX</td>\n",
       "      <td>LAS</td>\n",
       "      <td>PHX</td>\n",
       "    </tr>\n",
       "    <tr>\n",
       "      <th>7</th>\n",
       "      <td>PHX</td>\n",
       "      <td>LAS</td>\n",
       "      <td>PHX</td>\n",
       "      <td>LAS</td>\n",
       "    </tr>\n",
       "    <tr>\n",
       "      <th>8</th>\n",
       "      <td>EWR</td>\n",
       "      <td>SEA</td>\n",
       "      <td>EWR</td>\n",
       "      <td>SEA</td>\n",
       "    </tr>\n",
       "    <tr>\n",
       "      <th>9</th>\n",
       "      <td>BOS</td>\n",
       "      <td>IAH</td>\n",
       "      <td>BOS</td>\n",
       "      <td>IAH</td>\n",
       "    </tr>\n",
       "    <tr>\n",
       "      <th>10</th>\n",
       "      <td>IAH</td>\n",
       "      <td>MSP</td>\n",
       "      <td>IAH</td>\n",
       "      <td>MSP</td>\n",
       "    </tr>\n",
       "    <tr>\n",
       "      <th>11</th>\n",
       "      <td>MCO</td>\n",
       "      <td>DTW</td>\n",
       "      <td>MCO</td>\n",
       "      <td>DTW</td>\n",
       "    </tr>\n",
       "    <tr>\n",
       "      <th>12</th>\n",
       "      <td>SEA</td>\n",
       "      <td>MCO</td>\n",
       "      <td>SEA</td>\n",
       "      <td>MCO</td>\n",
       "    </tr>\n",
       "    <tr>\n",
       "      <th>13</th>\n",
       "      <td>JFK</td>\n",
       "      <td>BOS</td>\n",
       "      <td>JFK</td>\n",
       "      <td>BOS</td>\n",
       "    </tr>\n",
       "    <tr>\n",
       "      <th>14</th>\n",
       "      <td>MSP</td>\n",
       "      <td>SLC</td>\n",
       "      <td>MSP</td>\n",
       "      <td>SLC</td>\n",
       "    </tr>\n",
       "    <tr>\n",
       "      <th>15</th>\n",
       "      <td>CLT</td>\n",
       "      <td>CLT</td>\n",
       "      <td>CLT</td>\n",
       "      <td>CLT</td>\n",
       "    </tr>\n",
       "    <tr>\n",
       "      <th>16</th>\n",
       "      <td>LGA</td>\n",
       "      <td>EWR</td>\n",
       "      <td>LGA</td>\n",
       "      <td>EWR</td>\n",
       "    </tr>\n",
       "    <tr>\n",
       "      <th>17</th>\n",
       "      <td>DTW</td>\n",
       "      <td>BWI</td>\n",
       "      <td>DTW</td>\n",
       "      <td>BWI</td>\n",
       "    </tr>\n",
       "    <tr>\n",
       "      <th>18</th>\n",
       "      <td>FLL</td>\n",
       "      <td>JFK</td>\n",
       "      <td>FLL</td>\n",
       "      <td>JFK</td>\n",
       "    </tr>\n",
       "    <tr>\n",
       "      <th>19</th>\n",
       "      <td>BWI</td>\n",
       "      <td>LGA</td>\n",
       "      <td>BWI</td>\n",
       "      <td>LGA</td>\n",
       "    </tr>\n",
       "    <tr>\n",
       "      <th>20</th>\n",
       "      <td>MIA</td>\n",
       "      <td>MDW</td>\n",
       "      <td>MIA</td>\n",
       "      <td>MDW</td>\n",
       "    </tr>\n",
       "    <tr>\n",
       "      <th>21</th>\n",
       "      <td>MDW</td>\n",
       "      <td>FLL</td>\n",
       "      <td>MDW</td>\n",
       "      <td>FLL</td>\n",
       "    </tr>\n",
       "    <tr>\n",
       "      <th>22</th>\n",
       "      <td>SLC</td>\n",
       "      <td>SAN</td>\n",
       "      <td>SLC</td>\n",
       "      <td>SAN</td>\n",
       "    </tr>\n",
       "    <tr>\n",
       "      <th>23</th>\n",
       "      <td>DAL</td>\n",
       "      <td>DCA</td>\n",
       "      <td>DAL</td>\n",
       "      <td>DCA</td>\n",
       "    </tr>\n",
       "    <tr>\n",
       "      <th>24</th>\n",
       "      <td>PHL</td>\n",
       "      <td>PHL</td>\n",
       "      <td>PHL</td>\n",
       "      <td>PHL</td>\n",
       "    </tr>\n",
       "    <tr>\n",
       "      <th>25</th>\n",
       "      <td>SAN</td>\n",
       "      <td>TPA</td>\n",
       "      <td>SAN</td>\n",
       "      <td>TPA</td>\n",
       "    </tr>\n",
       "    <tr>\n",
       "      <th>26</th>\n",
       "      <td>DCA</td>\n",
       "      <td>DAL</td>\n",
       "      <td>DCA</td>\n",
       "      <td>DAL</td>\n",
       "    </tr>\n",
       "    <tr>\n",
       "      <th>27</th>\n",
       "      <td>HOU</td>\n",
       "      <td>MIA</td>\n",
       "      <td>HOU</td>\n",
       "      <td>MIA</td>\n",
       "    </tr>\n",
       "    <tr>\n",
       "      <th>28</th>\n",
       "      <td>TPA</td>\n",
       "      <td>PDX</td>\n",
       "      <td>TPA</td>\n",
       "      <td>PDX</td>\n",
       "    </tr>\n",
       "    <tr>\n",
       "      <th>29</th>\n",
       "      <td>OAK</td>\n",
       "      <td>STL</td>\n",
       "      <td>OAK</td>\n",
       "      <td>STL</td>\n",
       "    </tr>\n",
       "    <tr>\n",
       "      <th>30</th>\n",
       "      <td>STL</td>\n",
       "      <td>BNA</td>\n",
       "      <td>STL</td>\n",
       "      <td>BNA</td>\n",
       "    </tr>\n",
       "    <tr>\n",
       "      <th>31</th>\n",
       "      <td>BNA</td>\n",
       "      <td>HNL</td>\n",
       "      <td>BNA</td>\n",
       "      <td>HNL</td>\n",
       "    </tr>\n",
       "    <tr>\n",
       "      <th>32</th>\n",
       "      <td>PDX</td>\n",
       "      <td>HOU</td>\n",
       "      <td>PDX</td>\n",
       "      <td>HOU</td>\n",
       "    </tr>\n",
       "    <tr>\n",
       "      <th>33</th>\n",
       "      <td>SMF</td>\n",
       "      <td>OAK</td>\n",
       "      <td>SMF</td>\n",
       "      <td>OAK</td>\n",
       "    </tr>\n",
       "    <tr>\n",
       "      <th>34</th>\n",
       "      <td>SJC</td>\n",
       "      <td>AUS</td>\n",
       "      <td>SJC</td>\n",
       "      <td>AUS</td>\n",
       "    </tr>\n",
       "    <tr>\n",
       "      <th>35</th>\n",
       "      <td>AUS</td>\n",
       "      <td>MCI</td>\n",
       "      <td>AUS</td>\n",
       "      <td>MCI</td>\n",
       "    </tr>\n",
       "    <tr>\n",
       "      <th>36</th>\n",
       "      <td>MSY</td>\n",
       "      <td>MSY</td>\n",
       "      <td>MSY</td>\n",
       "      <td>MSY</td>\n",
       "    </tr>\n",
       "    <tr>\n",
       "      <th>37</th>\n",
       "      <td>SNA</td>\n",
       "      <td>SJC</td>\n",
       "      <td>SNA</td>\n",
       "      <td>SJC</td>\n",
       "    </tr>\n",
       "    <tr>\n",
       "      <th>38</th>\n",
       "      <td>MCI</td>\n",
       "      <td>SNA</td>\n",
       "      <td>MCI</td>\n",
       "      <td>SNA</td>\n",
       "    </tr>\n",
       "    <tr>\n",
       "      <th>39</th>\n",
       "      <td>RDU</td>\n",
       "      <td>SMF</td>\n",
       "      <td>RDU</td>\n",
       "      <td>SMF</td>\n",
       "    </tr>\n",
       "  </tbody>\n",
       "</table>\n",
       "</div>"
      ],
      "text/plain": [
       "   ORIGIN_DELAYED_SORT ORIGIN_NON_DELAYED_SORT DEST_DELAYED_SORTED  \\\n",
       "0                  ATL                     ATL                 ATL   \n",
       "1                  ORD                     ORD                 ORD   \n",
       "2                  LAX                     DEN                 LAX   \n",
       "3                  DEN                     LAX                 DEN   \n",
       "4                  DFW                     DFW                 DFW   \n",
       "5                  SFO                     SFO                 SFO   \n",
       "6                  LAS                     PHX                 LAS   \n",
       "7                  PHX                     LAS                 PHX   \n",
       "8                  EWR                     SEA                 EWR   \n",
       "9                  BOS                     IAH                 BOS   \n",
       "10                 IAH                     MSP                 IAH   \n",
       "11                 MCO                     DTW                 MCO   \n",
       "12                 SEA                     MCO                 SEA   \n",
       "13                 JFK                     BOS                 JFK   \n",
       "14                 MSP                     SLC                 MSP   \n",
       "15                 CLT                     CLT                 CLT   \n",
       "16                 LGA                     EWR                 LGA   \n",
       "17                 DTW                     BWI                 DTW   \n",
       "18                 FLL                     JFK                 FLL   \n",
       "19                 BWI                     LGA                 BWI   \n",
       "20                 MIA                     MDW                 MIA   \n",
       "21                 MDW                     FLL                 MDW   \n",
       "22                 SLC                     SAN                 SLC   \n",
       "23                 DAL                     DCA                 DAL   \n",
       "24                 PHL                     PHL                 PHL   \n",
       "25                 SAN                     TPA                 SAN   \n",
       "26                 DCA                     DAL                 DCA   \n",
       "27                 HOU                     MIA                 HOU   \n",
       "28                 TPA                     PDX                 TPA   \n",
       "29                 OAK                     STL                 OAK   \n",
       "30                 STL                     BNA                 STL   \n",
       "31                 BNA                     HNL                 BNA   \n",
       "32                 PDX                     HOU                 PDX   \n",
       "33                 SMF                     OAK                 SMF   \n",
       "34                 SJC                     AUS                 SJC   \n",
       "35                 AUS                     MCI                 AUS   \n",
       "36                 MSY                     MSY                 MSY   \n",
       "37                 SNA                     SJC                 SNA   \n",
       "38                 MCI                     SNA                 MCI   \n",
       "39                 RDU                     SMF                 RDU   \n",
       "\n",
       "   DEST_NON_DELAYED_SORTED  \n",
       "0                      ATL  \n",
       "1                      ORD  \n",
       "2                      DEN  \n",
       "3                      LAX  \n",
       "4                      DFW  \n",
       "5                      SFO  \n",
       "6                      PHX  \n",
       "7                      LAS  \n",
       "8                      SEA  \n",
       "9                      IAH  \n",
       "10                     MSP  \n",
       "11                     DTW  \n",
       "12                     MCO  \n",
       "13                     BOS  \n",
       "14                     SLC  \n",
       "15                     CLT  \n",
       "16                     EWR  \n",
       "17                     BWI  \n",
       "18                     JFK  \n",
       "19                     LGA  \n",
       "20                     MDW  \n",
       "21                     FLL  \n",
       "22                     SAN  \n",
       "23                     DCA  \n",
       "24                     PHL  \n",
       "25                     TPA  \n",
       "26                     DAL  \n",
       "27                     MIA  \n",
       "28                     PDX  \n",
       "29                     STL  \n",
       "30                     BNA  \n",
       "31                     HNL  \n",
       "32                     HOU  \n",
       "33                     OAK  \n",
       "34                     AUS  \n",
       "35                     MCI  \n",
       "36                     MSY  \n",
       "37                     SJC  \n",
       "38                     SNA  \n",
       "39                     SMF  "
      ]
     },
     "execution_count": 38,
     "metadata": {},
     "output_type": "execute_result"
    },
    {
     "data": {
      "image/png": "[encoded data removed]",
      "text/plain": [
       "<Figure size 432x288 with 1 Axes>"
      ]
     },
     "metadata": {
      "needs_background": "light"
     },
     "output_type": "display_data"
    }
   ],
   "source": [
    "fig, ax = plt.subplots()\n",
    "\n",
    "# hide axes\n",
    "fig.patch.set_visible(False)\n",
    "ax.axis('off')\n",
    "ax.axis('tight')\n",
    "\n",
    "temp_df = pd.DataFrame(zip(sorted_origin_keys[0 : 50], sorted_origin_no_keys[0:50], sorted_dest_keys[0:50], sorted_dest_not_keys[0:50]), columns=[\"ORIGIN_DELAYED_SORT\", \"ORIGIN_NON_DELAYED_SORT\", \"DEST_DELAYED_SORTED\", \"DEST_NON_DELAYED_SORTED\"])\n",
    "\n",
    "temp_df.head(40)"
   ]
  },
  {
   "cell_type": "markdown",
   "metadata": {},
   "source": [
    "## Model selection\n",
    "### The problem is predicting the binary output of whether or not a flight is delayed, this appears to be a supervised learning classification task \n",
    "### The data itself doesn't seem to have many linear relationships at all, making the use of different regression algorithms like linear, polynomial, and logistic regression rather infeasable due to their innate programatic nature of assuming linearity \n",
    "### A decision tree based algorithm seems very appropiate for this data set, however a single decision tree wouldn't be able to correctly classify the 512 million rows with high accuracy.. instead a random forest classifier seems like the best fit due to it's utulization of multiple decision trees and separation of concern amongst features"
   ]
  },
  {
   "cell_type": "markdown",
   "metadata": {},
   "source": [
    "## Metric Selection \n",
    "### For most important metric, I'm going to assume FL_DATE, even as counter intuitive as that might sound... the reasons being it can be a metric used for further feature extraction since their appeared to be a cluster within the data for the highest number of delays being upon certain days of the year with a majority of flight delays falling upon just 40 days out of the year    "
   ]
  },
  {
   "cell_type": "code",
   "execution_count": null,
   "metadata": {},
   "outputs": [],
   "source": []
  }
 ],
 "metadata": {
  "kernelspec": {
   "display_name": "Python 3",
   "language": "python",
   "name": "python3"
  },
  "language_info": {
   "codemirror_mode": {
    "name": "ipython",
    "version": 3
   },
   "file_extension": ".py",
   "mimetype": "text/x-python",
   "name": "python",
   "nbconvert_exporter": "python",
   "pygments_lexer": "ipython3",
   "version": "3.6.6"
  }
 },
 "nbformat": 4,
 "nbformat_minor": 4
}
